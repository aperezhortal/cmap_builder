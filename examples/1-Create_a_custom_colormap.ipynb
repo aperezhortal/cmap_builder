{
 "cells": [
  {
   "cell_type": "markdown",
   "id": "80afd913-8b2a-4bc6-b83a-626735549121",
   "metadata": {},
   "source": [
    "# Creating custom colormaps in matplotlib using cmap_builder\n",
    "\n",
    "In this example, we will show how to use the `cmap_builder` package to create \n",
    "complex colormaps and colorbars in matplotlib.\n",
    "\n",
    "This tutorial covers the following topics:\n",
    "\n",
    "### Table of contents\n",
    "\n",
    "- [How to use cmap_builder](#How-to-use-cmap_builder?)\n",
    "- [Create non-uniform discrete colormaps](#Create-non-uniform-discrete-colormaps)\n",
    "- [Create non-uniform discrete colormaps with equally spaced color segments](#Create-non-uniform-discrete-colormaps-with-equally-spaced-color-segments)\n",
    "- [Create linearly varying and non-uniform colormaps](#Create-linearly-varying-and-non-uniform-colormaps)\n",
    "- [Why use uniform spacing in continuous colorbars?](#Why-use-uniform-spacing-in-continuous-colorbars?)\n",
    "- [Create descriptive colormaps](#Create-descriptive-colormaps)\n",
    "\n",
    "But, first, let us begin plotting all the named colors available in matplotlib.\n",
    "A helper function is included `cmap_builder.utils.plot_colortable` to quickly make this plot."
   ]
  },
  {
   "cell_type": "code",
   "execution_count": null,
   "id": "4ed842db-5c1c-4adb-94a3-f38ab62122c2",
   "metadata": {
    "tags": []
   },
   "outputs": [],
   "source": [
    "%matplotlib inline\n",
    "from cmap_builder.utils import plot_colortable\n",
    "\n",
    "plot_colortable()"
   ]
  },
  {
   "cell_type": "markdown",
   "id": "1c7ede5a-55b3-40a6-a60a-cac54356a407",
   "metadata": {},
   "source": [
    "## How to use cmap_builder?\n",
    "\n",
    "Custom colormaps can be built using the `cmap_builder.build_cmap()` function.\n",
    "\n",
    "Let's see the function's help:"
   ]
  },
  {
   "cell_type": "code",
   "execution_count": null,
   "id": "d6d12b69-6ce8-42fc-9466-878240c83921",
   "metadata": {},
   "outputs": [],
   "source": [
    "from cmap_builder import build_cmap\n",
    "\n",
    "help(build_cmap)"
   ]
  },
  {
   "cell_type": "markdown",
   "id": "76d854fe-67d1-4f50-b1aa-63daddc6d34b",
   "metadata": {},
   "source": [
    "Hence, in a nutshell, the first step to creating colormaps is specifying our colormap definition \n",
    "```python\n",
    "cmap_def = [\n",
    "        (x0, color_0, [next_color_0])  # next_color_0 ignored if provided.\n",
    "        (x1, color_1, [next_color_1])\n",
    "        ...\n",
    "        (xi, color_i, [next_color_i])\n",
    "        ..\n",
    "        (xn, color_n, [next_color_n])  # next_color_n is ignored if provided.\n",
    "    ]\n",
    "```\n",
    "\n",
    "Since this type of definition is very versatile, we will use it to create all sorts of colormaps.\n",
    "\n",
    "## Create non-uniform discrete colormaps\n",
    "\n",
    "Now, let's start building a simple colormap that has 5 discrete colors segments *of different sizes*.\n",
    "\n",
    "We start first by defining the colormap as a (value, color) sequence, indicating the color\n",
    "at each data value. This is one of the supported colormap definitions supported by the `cmap_builder`, but not the only one! (we will see other types of definitions later on).\n",
    "\n",
    "Although the matplotlib's colormaps map values in the (0,1) interval to colors,\n",
    "the `cmap_builder` colormap definition supports using any units and intervals.\n",
    "The colormap normalization is done internally by the `build_cmap` function. \n",
    "Defining the colormaps in the same data units allows one to easily create colormaps that fit particular datasets.\n",
    "\n",
    "Without further ado, let's create the colormap."
   ]
  },
  {
   "cell_type": "code",
   "execution_count": null,
   "id": "fa02d110-bb19-4209-a3f0-7265fc6b5a5f",
   "metadata": {},
   "outputs": [],
   "source": [
    "# First, a helper function to visualize the colormap\n",
    "def show_cmap(cmap, norm, xticks):\n",
    "    import numpy as np\n",
    "    from matplotlib import pyplot as plt\n",
    "    import matplotlib_inline.backend_inline\n",
    "    import numpy as np\n",
    "\n",
    "    matplotlib_inline.backend_inline.set_matplotlib_formats(\"svg\")\n",
    "    plt.rc(\"font\", family=\"serif\", size=12)\n",
    "\n",
    "    gradient_1d = np.linspace(norm.vmin, norm.vmax, 700)\n",
    "    gradient = np.vstack((gradient_1d, gradient_1d))\n",
    "\n",
    "    figh = 1\n",
    "    fig, ax = plt.subplots(nrows=1, figsize=(6.4, figh), dpi=300)\n",
    "    fig.patch.set_facecolor(\"white\")  # Add white background to figure\n",
    "    fig.subplots_adjust(top=1 - 0.35 / figh, bottom=0.15 / figh, left=0.2, right=0.99)\n",
    "\n",
    "    ax.set_title(cmap.name, fontsize=14)\n",
    "    X, Y = np.meshgrid(gradient_1d, [0, 1])\n",
    "    ax.pcolormesh(X, Y, gradient, cmap=cmap, norm=norm, rasterized=True)\n",
    "    ax.set_yticks([])\n",
    "    ax.set_xticks(xticks)"
   ]
  },
  {
   "cell_type": "markdown",
   "id": "49842225-81f0-4a3d-987e-fa8f2bdecbc1",
   "metadata": {},
   "source": [
    "Let's first specify the colormap definition. \n",
    "Any named color supported by matplotlib can be used to define the colormap.\n",
    "**IMPORTANT** (r,g,b) values or hex colors are not supported yet."
   ]
  },
  {
   "cell_type": "code",
   "execution_count": null,
   "id": "1e68021b-2bcd-4891-8e10-d05e113f257f",
   "metadata": {},
   "outputs": [],
   "source": [
    "from cmap_builder import build_cmap\n",
    "\n",
    "cmap_def = [\n",
    "    # (value, color)\n",
    "    (0, \"red\"),\n",
    "    (2, \"blue\"),\n",
    "    (4, \"green\"),\n",
    "    (8, \"yellow\"),\n",
    "    (9, \"purple\"),\n",
    "    (10, \"purple\"),\n",
    "    # The last repeated color is used to indicate the\n",
    "    # end of the discrete colormapping.\n",
    "]\n",
    "\n",
    "# Using the definition above, with `discrete=True`, we have a colormap that\n",
    "# maps the following values to colors:\n",
    "# [0-2) -> red\n",
    "# [2-4) -> blue\n",
    "# [4-8) -> green\n",
    "# [8-9) -> yellow\n",
    "# [9-10) -> purple\n",
    "my_cmap, my_ticks, my_norm = build_cmap(\n",
    "    \"non_uniform_discrete_cmap\",  # Name of the colormap\n",
    "    cmap_def,\n",
    "    discrete=True,  # Return a discrete colormap.\n",
    "    N=700,  # color palette quantization levels.\n",
    ")\n",
    "show_cmap(my_cmap, my_norm, my_ticks)"
   ]
  },
  {
   "cell_type": "markdown",
   "id": "35eec27f-7415-4030-a0c1-637d85618780",
   "metadata": {},
   "source": [
    "The `build_cmap` function returns three objects:\n",
    "- cmap: The colormap\n",
    "- ticks: The data values corresponding to color segments definitions of the colormap.\n",
    "- norm: The norm used to normalize the data into the [0,1] interval used by the color plotting functions.\n",
    "\n",
    "Let's now use this colormap to create a simple plot."
   ]
  },
  {
   "cell_type": "code",
   "execution_count": null,
   "id": "399fe93e-53dc-46cf-ba60-a97f0e526bc9",
   "metadata": {},
   "outputs": [],
   "source": [
    "# Helper function to quickly make plots.\n",
    "# We will use the same function for all the examples.\n",
    "def make_plot(\n",
    "    cmap,\n",
    "    ticks,\n",
    "    norm,\n",
    "    title=None,\n",
    "    clabel=\"My colorbar\",\n",
    "    xlabel=\"\",\n",
    "    ylabel=\"\",\n",
    "    return_axes=False,\n",
    "):\n",
    "    # Make plots look pretty in the jupyter lab\n",
    "    import matplotlib.ticker as ticker\n",
    "    import matplotlib_inline.backend_inline\n",
    "    import numpy as np\n",
    "    from matplotlib import pyplot as plt\n",
    "\n",
    "    matplotlib_inline.backend_inline.set_matplotlib_formats(\"svg\")\n",
    "    plt.rc(\"font\", family=\"serif\", size=12)\n",
    "\n",
    "    N = 1000\n",
    "    X, Y = np.mgrid[-2 : 2 : complex(0, N), -2 : 2 : complex(0, N)]\n",
    "    Z1 = np.exp(-(X ** 2) - Y ** 2)\n",
    "    Z = Z1 * 10\n",
    "\n",
    "    fig = plt.figure(figsize=(5, 4), dpi=300)\n",
    "    fig.patch.set_facecolor(\"white\")  # Add white background to figure\n",
    "    ax = plt.gca()\n",
    "    pcm = ax.pcolormesh(X, Y, Z, cmap=cmap, shading=\"auto\", norm=norm, rasterized=True)\n",
    "    cb = fig.colorbar(pcm, ticks=ticks)\n",
    "    cb.set_label(clabel, labelpad=-2)\n",
    "    ax.xaxis.set_major_locator(ticker.MultipleLocator(1))\n",
    "    ax.yaxis.set_major_locator(ticker.MultipleLocator(1))\n",
    "\n",
    "    ax.set_title(title, pad=12)\n",
    "    ax.set_xlabel(xlabel)\n",
    "    ax.set_ylabel(ylabel)\n",
    "    ax.set_aspect(\"equal\")\n",
    "    ax.axhline(0, linewidth=1.0, color=\"white\", linestyle=\"--\")\n",
    "    ax.axvline(0, linewidth=1.0, color=\"white\", linestyle=\"--\")\n",
    "    if return_axes:\n",
    "        return ax, cb\n",
    "    else:\n",
    "        plt.show()"
   ]
  },
  {
   "cell_type": "code",
   "execution_count": null,
   "id": "0c3898ca-a381-490f-a165-f22d9199593b",
   "metadata": {},
   "outputs": [],
   "source": [
    "make_plot(my_cmap, my_ticks, norm=my_norm, title=\"Non-uniform discrete colormap\")"
   ]
  },
  {
   "cell_type": "markdown",
   "id": "096b0d40-bf1f-43c9-b089-e05a1ab8069e",
   "metadata": {},
   "source": [
    "## Create non-uniform discrete colormaps with equally spaced color segments\n",
    "\n",
    "Intencionally, we defined uneven color segments in the colormap.\n",
    "That does not look very nice in the colorbar.\n",
    "\n",
    "To have equally spaced elements in the colorbar, we can recreate the colormap with the \"uniform=True\" option."
   ]
  },
  {
   "cell_type": "code",
   "execution_count": null,
   "id": "c5f9d5f8-68f9-4da7-b0f3-dfec3376d727",
   "metadata": {},
   "outputs": [],
   "source": [
    "my_cmap, my_ticks, my_norm = build_cmap(\n",
    "    \"non_uniform_discrete_cmap\",  # Name of the colormap\n",
    "    cmap_def,\n",
    "    uniform=True,  # Uniform spacing for each color segment\n",
    "    discrete=True,  # Return a discrete colormap\n",
    "    N=700,  # color palette quantization levels.\n",
    ")\n",
    "\n",
    "make_plot(\n",
    "    my_cmap,\n",
    "    my_ticks,\n",
    "    norm=my_norm,\n",
    "    title=\"Non-uniform discrete colormap\\n(uniform spacing)\",\n",
    ")"
   ]
  },
  {
   "cell_type": "markdown",
   "id": "ca67b654-6812-46ce-9783-750ae5cc61b7",
   "metadata": {},
   "source": [
    "## Create linearly varying and non-uniform colormaps\n",
    "\n",
    "Now, let's use the colormap builder to create the same colormaps as before but using a continuous color transition.\n",
    "We use the same colormap definition as before, but this time we pass `discrete=False`."
   ]
  },
  {
   "cell_type": "code",
   "execution_count": null,
   "id": "0660f4d3-b6e2-43ee-a892-b486170bf3bc",
   "metadata": {},
   "outputs": [],
   "source": [
    "cmap_def = [\n",
    "    # (value, color)\n",
    "    (0, \"red\"),\n",
    "    (2, \"blue\"),\n",
    "    (4, \"green\"),\n",
    "    (8, \"yellow\"),\n",
    "    (9, \"purple\"),\n",
    "    (10, \"indigo\"),\n",
    "    # The last repeated color is used to indicate the\n",
    "    # end of the discrete colormapping.\n",
    "]\n",
    "\n",
    "# Using the definition above, with `discrete=False`, we have a colormap that\n",
    "# maps the following values to colors:\n",
    "# [0-2)  -> varies from red to blue\n",
    "# [2-4)  -> varies from blue to green\n",
    "# [4-8)  -> varies from green to yellow\n",
    "# [8-9)  -> varies from yellow to purple\n",
    "# [9-10) -> varies from purple to indigo\n",
    "\n",
    "my_cmap, my_ticks, my_norm = build_cmap(\n",
    "    \"non_uniform_continuous_cmap\",  # Name of the colormap\n",
    "    cmap_def,\n",
    "    uniform=True,  # Uniform spacing for each color segment\n",
    "    discrete=False,  # Return a discrete colormap\n",
    "    N=700,  # color palette quantization levels.\n",
    ")\n",
    "show_cmap(my_cmap, my_norm, my_ticks)"
   ]
  },
  {
   "cell_type": "code",
   "execution_count": null,
   "id": "dc9c97c0-aec5-4f3f-8c24-6543f652a070",
   "metadata": {},
   "outputs": [],
   "source": [
    "make_plot(\n",
    "    my_cmap,\n",
    "    my_ticks,\n",
    "    norm=my_norm,\n",
    "    title=\"Non-uniform continous colormap\\n(uniform spacing)\",\n",
    ")"
   ]
  },
  {
   "cell_type": "markdown",
   "id": "78aca08c-21e4-4331-8465-818d244a979c",
   "metadata": {},
   "source": [
    "## Why use uniform spacing in continuous colorbars? \n",
    "\n",
    "Using uniform spacing for the colormap segments gives additional control to\n",
    "the level of details of the plots. \n",
    "To better explain this point, let's give a hypothetical meaning to the plots that we showed before. \n",
    "Let's say we want to plot the \"happiness\" of a hummingbird as a function of the distance to the flower.\n",
    "Then, the x- and the y-axes denote the distance to the flower in meters, and the value of the function we plot is a measure of happiness. The happiness can be interpreted as the hummingbird being:\n",
    "\n",
    "- \\[0,2): Desperate!\n",
    "- \\[2, 4\\]: Worried.\n",
    "- \\[4-8\\]: A little worried.\n",
    "- \\[8-9\\]: Happy.\n",
    "- \\[9-10\\]: Extremely happy\n",
    "\n",
    "\n",
    "Then, each of the above intervals has a particular (totally made up) meaning. \n",
    "Although any colormap (and their colorbar) can display the hummingbird mood as the function of distance, the boundaries where there is a transition of \"happiness\" are not clear. We can, of course, add contours to clearly denote the boundaries. \n",
    "\n",
    "However, in the next section, we will see an alternative way to quickly see the type of mood of the little bird using more descriptive colormaps."
   ]
  },
  {
   "cell_type": "markdown",
   "id": "1c239b83-0bec-4e29-af91-79730bbaaade",
   "metadata": {},
   "source": [
    "## Create descriptive colormaps\n",
    "\n",
    "The previous examples showed how the `cmap_builder` library can create simple colormaps. \n",
    "Now, let's make an awesome and very descriptive colorbar.\n",
    "\n",
    "For that, we will create a colormap with the following properties:\n",
    "\n",
    "- Each different mood category is denoted by a different color.\n",
    "- Within each category, the values vary from light to dark colors according to the mood intensity.\n",
    "  \n",
    "Therefore, let's build a colormap like this:\n",
    "\n",
    "- \\[0,2): Desperate!. Varying from dark to light green.\n",
    "- \\[2, 4\\]: Worried.  Varying from dark to light purple.\n",
    "- \\[4-8\\]: A little worried. Varying from dark to light orange.\n",
    "- \\[8-9\\]: Happy. Varying from dark to light yellow.\n",
    "- \\[9-10\\]: Extremely happy. Varying from dark to light green.\n",
    "\n",
    "Note that the mood intensity increases with decreasing values of our happiness measure of the happiness.\n",
    "\n",
    "So, let's begin by specifying the colormap definition."
   ]
  },
  {
   "cell_type": "code",
   "execution_count": null,
   "id": "30311c7b-5cfb-40e6-88f4-320dc96bfeae",
   "metadata": {},
   "outputs": [],
   "source": [
    "cmap_def = [\n",
    "    # (value, color)\n",
    "    (0, \"red_dark\"),\n",
    "    (2, \"red_light\", \"orange_light\"),\n",
    "    (4, \"orange_dark\", \"blue_light\"),\n",
    "    (8, \"blue_dark\", \"purple_light\"),\n",
    "    (9, \"purple_dark\", \"green_light\"),\n",
    "    (10, \"green_dark\"),\n",
    "    # The last repeated color is used to indicate the\n",
    "    # end of the discrete colormapping.\n",
    "]"
   ]
  },
  {
   "cell_type": "markdown",
   "id": "85b1515f-5e01-4a77-8a1b-fe9b47bb4315",
   "metadata": {},
   "source": [
    "Did you note that we used named colors with the \"\\_light\" and \"\\_dark\" suffixes?\n",
    "\n",
    "These are called \"color modifiers\" and it is one of the features included in the `cmap_builder` library.\n",
    "Internally, the color names are parsed by the `cmap_builder.utils.rgb_from_name()` function and supports any of the following color modifiers:\n",
    "\n",
    "The color name supports **at most one** of the following color modifiers suffixes:\n",
    "\n",
    "- \"\\_l#\": HLS lightness (L) modifier (0 to 100 range).\n",
    "  For example, \"yellow\\_l75\" changes the lightness to 0.75.\n",
    "- \"\\_s#\": HSV saturation (S) modifier (0 to 100 range).\n",
    "  For example, \"yellow\\_s75\" changes the saturation to 0.75.\n",
    "- \"\\_v#\": HSV value (V, or brightness) modifier (0 to 100 range).\n",
    "  For example, \"yellow\\_v75\" changes the brightness (value) to 0.75.\n",
    "- \"\\_light\": Make color lighter. Same as the \"\\_l10\" modifier.\n",
    "- \"\\_dark\": Make color darker. Same as the \"\\_l80\" modifier.\n",
    "\n",
    "Now, let's build the colormap using the definition specified before."
   ]
  },
  {
   "cell_type": "code",
   "execution_count": null,
   "id": "116a2ce2-3478-42f2-8f79-f675f6aa66f8",
   "metadata": {},
   "outputs": [],
   "source": [
    "my_cmap, my_ticks, my_norm = build_cmap(\n",
    "    \"hummingbird_happyness\",  # Name of the colormap\n",
    "    cmap_def,\n",
    "    uniform=True,\n",
    "    N=700,  # color palette quantization levels.\n",
    ")\n",
    "\n",
    "show_cmap(my_cmap, my_norm, my_ticks)"
   ]
  },
  {
   "cell_type": "code",
   "execution_count": null,
   "id": "16eafe5d-5d9e-4a99-99b0-0409bc2ad63c",
   "metadata": {
    "tags": []
   },
   "outputs": [],
   "source": [
    "make_plot(\n",
    "    my_cmap,\n",
    "    my_ticks,\n",
    "    norm=my_norm,\n",
    "    title=\"Hummingbird happyness\",\n",
    "    xlabel=\"x distance [m]\",\n",
    "    ylabel=\"y distance[m]\",\n",
    "    clabel=\"Hummingbird mood\",\n",
    ")"
   ]
  },
  {
   "cell_type": "markdown",
   "id": "58b1f457-e648-4686-9086-ea9fde244706",
   "metadata": {},
   "source": [
    "We can go one step further and replace the tick labels in the colorbar with different moods."
   ]
  },
  {
   "cell_type": "code",
   "execution_count": null,
   "id": "1cdfd5dc-49d0-47ef-97c7-d1fb56caf296",
   "metadata": {
    "tags": [
     "nbsphinx-thumbnail"
    ]
   },
   "outputs": [],
   "source": [
    "ax, cbar = make_plot(\n",
    "    my_cmap,\n",
    "    my_ticks,\n",
    "    norm=my_norm,\n",
    "    title=\"Hummingbird happyness\",\n",
    "    xlabel=\"x distance [m]\",\n",
    "    ylabel=\"y distance[m]\",\n",
    "    clabel=\"\",\n",
    "    return_axes=True,\n",
    ")\n",
    "\n",
    "mid_point_ticks = [1, 3, 6, 8.5, 9.5]\n",
    "mood_labels = [\"Desperate!\", \"Worried\", \"A little worried\", \"Happy\", \"Extremely happy\"]\n",
    "\n",
    "_ = cbar.ax.set_yticks(mid_point_ticks)\n",
    "_ = cbar.ax.set_yticklabels(mood_labels)"
   ]
  },
  {
   "cell_type": "markdown",
   "id": "f76f1e65-2fcc-4dba-a9b4-ca54ba310c79",
   "metadata": {},
   "source": [
    "The previous plot describes the evolution of the little bird's mood as it approaches a flower.\n",
    "We can see, for example, where the mood transition takes place and how the intensity of the mood changes with distance."
   ]
  },
  {
   "cell_type": "markdown",
   "id": "d941b096-b0cc-4775-8136-55ccfe5da553",
   "metadata": {},
   "source": [
    "# The end"
   ]
  }
 ],
 "metadata": {
  "kernelspec": {
   "display_name": "Python 3 (ipykernel)",
   "language": "python",
   "name": "python3"
  },
  "language_info": {
   "codemirror_mode": {
    "name": "ipython",
    "version": 3
   },
   "file_extension": ".py",
   "mimetype": "text/x-python",
   "name": "python",
   "nbconvert_exporter": "python",
   "pygments_lexer": "ipython3",
   "version": "3.7.12"
  }
 },
 "nbformat": 4,
 "nbformat_minor": 5
}
